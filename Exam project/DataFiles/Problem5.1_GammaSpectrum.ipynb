{
 "cells": [
  {
   "cell_type": "code",
   "execution_count": null,
   "metadata": {},
   "outputs": [],
   "source": [
    "from array import array\n",
    "import numpy as np\n",
    "\n",
    "\n",
    "# ----------------------------------------------------------------------------------- #\n",
    "# Read data (channel numbers):\n",
    "# ----------------------------------------------------------------------------------- #\n",
    "\n",
    "x = []\n",
    "\n",
    "with open( 'data_GammaSpectrum.txt', 'r' ) as infile :\n",
    "    for line in infile:\n",
    "        line = line.strip().split()\n",
    "        x.append(float(line[0]))\n",
    "\n",
    "        # Print the numbers as a sanity check\n",
    "        if (len(x) < 10) :\n",
    "            print(x[-1])\n",
    "\n",
    "x = np.array(x)"
   ]
  },
  {
   "cell_type": "code",
   "execution_count": null,
   "metadata": {},
   "outputs": [],
   "source": []
  },
  {
   "cell_type": "code",
   "execution_count": null,
   "metadata": {},
   "outputs": [],
   "source": []
  }
 ],
 "metadata": {
  "kernelspec": {
   "display_name": "Python 3",
   "language": "python",
   "name": "python3"
  },
  "language_info": {
   "codemirror_mode": {
    "name": "ipython",
    "version": 3
   },
   "file_extension": ".py",
   "mimetype": "text/x-python",
   "name": "python",
   "nbconvert_exporter": "python",
   "pygments_lexer": "ipython3",
   "version": "3.6.7"
  }
 },
 "nbformat": 4,
 "nbformat_minor": 2
}
