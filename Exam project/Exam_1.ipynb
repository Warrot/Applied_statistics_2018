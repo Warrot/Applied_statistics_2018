{
 "cells": [
  {
   "cell_type": "markdown",
   "metadata": {},
   "source": [
    "## Opgave 1"
   ]
  },
  {
   "cell_type": "code",
   "execution_count": 1,
   "metadata": {},
   "outputs": [],
   "source": [
    "# coding: utf-8\n",
    "import numpy as np\n",
    "import math\n",
    "import scipy.special"
   ]
  },
  {
   "cell_type": "code",
   "execution_count": 2,
   "metadata": {},
   "outputs": [],
   "source": [
    "import numpy as np                                     # Matlab like syntax for linear algebra and functions\n",
    "import matplotlib.pyplot as plt                        # Plots and figures like you know them from Matlab\n",
    "import matplotlib as mpl\n",
    "import seaborn as sns                                  # Make the plots nicer to look at\n",
    "from iminuit import Minuit                             # The actual fitting tool, better than scipy's\n",
    "from probfit import BinnedLH, Chi2Regression, Extended, gaussian\n",
    "import sys                                             # Modules to see files and folders in directories\n",
    "from scipy import stats"
   ]
  },
  {
   "cell_type": "code",
   "execution_count": 3,
   "metadata": {},
   "outputs": [],
   "source": [
    "sys.path.append('../External_Functions')\n",
    "from ExternalFunctions import nice_string_output, add_text_to_ax # useful functions to print fit results on figure"
   ]
  },
  {
   "cell_type": "code",
   "execution_count": 4,
   "metadata": {},
   "outputs": [],
   "source": [
    "p = 18.0/37\n",
    "N = 50\n",
    "k = 25"
   ]
  },
  {
   "cell_type": "code",
   "execution_count": 5,
   "metadata": {},
   "outputs": [],
   "source": [
    "def func(rolls, p, i):\n",
    "    return (scipy.special.factorial(rolls) / (scipy.special.factorial(i) * scipy.special.factorial(rolls-i))) * p**i * (1-p)**(rolls-i)"
   ]
  },
  {
   "cell_type": "markdown",
   "metadata": {},
   "source": [
    "### 1.1.1"
   ]
  },
  {
   "cell_type": "code",
   "execution_count": 6,
   "metadata": {},
   "outputs": [
    {
     "name": "stdout",
     "output_type": "stream",
     "text": [
      "Probability of 25 successes with 50 rolls is: 0.11024\n"
     ]
    }
   ],
   "source": [
    "print(f\"Probability of 25 successes with 50 rolls is: {func(N, p, k):7.5f}\") "
   ]
  },
  {
   "cell_type": "code",
   "execution_count": 7,
   "metadata": {},
   "outputs": [],
   "source": [
    "total = 0\n",
    "for i in range(26):\n",
    "    #print(f\"Probability of {i:2d} successes with 50 rolls is: {func(50, p, i):7.5f}\") \n",
    "    total += func(50, p, i)\n",
    "#print(f\"Probability of 25 successes with 50 rolls is: {func(50, p, 25):7.5f}\") "
   ]
  },
  {
   "cell_type": "code",
   "execution_count": 8,
   "metadata": {},
   "outputs": [
    {
     "name": "stdout",
     "output_type": "stream",
     "text": [
      "Probability of 26 or more success with 50 rolls is: 0.36946\n"
     ]
    }
   ],
   "source": [
    "print(f\"Probability of 26 or more success with 50 rolls is: {1-total:7.5f}\")"
   ]
  },
  {
   "cell_type": "markdown",
   "metadata": {},
   "source": [
    "### 1.1.2"
   ]
  },
  {
   "cell_type": "code",
   "execution_count": 21,
   "metadata": {},
   "outputs": [
    {
     "name": "stdout",
     "output_type": "stream",
     "text": [
      "Probability of AT LEAST 20 successes with 20 rolls is: 0.00000\n",
      "Probability of AT LEAST 20 successes with 21 rolls is: 0.00001\n",
      "Probability of AT LEAST 20 successes with 22 rolls is: 0.00004\n",
      "Probability of AT LEAST 20 successes with 23 rolls is: 0.00015\n",
      "Probability of AT LEAST 20 successes with 24 rolls is: 0.00049\n",
      "Probability of AT LEAST 20 successes with 25 rolls is: 0.00133\n",
      "Probability of AT LEAST 20 successes with 26 rolls is: 0.00312\n",
      "Probability of AT LEAST 20 successes with 27 rolls is: 0.00653\n",
      "Probability of AT LEAST 20 successes with 28 rolls is: 0.01245\n",
      "Probability of AT LEAST 20 successes with 29 rolls is: 0.02191\n",
      "Probability of AT LEAST 20 successes with 30 rolls is: 0.03599\n",
      "Probability of AT LEAST 20 successes with 31 rolls is: 0.05571\n",
      "Probability of AT LEAST 20 successes with 32 rolls is: 0.08187\n",
      "Probability of AT LEAST 20 successes with 33 rolls is: 0.11493\n",
      "Probability of AT LEAST 20 successes with 34 rolls is: 0.15496\n",
      "Probability of AT LEAST 20 successes with 35 rolls is: 0.20154\n",
      "Probability of AT LEAST 20 successes with 36 rolls is: 0.25388\n",
      "Probability of AT LEAST 20 successes with 37 rolls is: 0.31078\n",
      "Probability of AT LEAST 20 successes with 38 rolls is: 0.37085\n",
      "Probability of AT LEAST 20 successes with 39 rolls is: 0.43254\n",
      "Probability of AT LEAST 20 successes with 40 rolls is: 0.49432\n",
      "Probability of AT LEAST 20 successes with 41 rolls is: 0.55474\n",
      "Probability of AT LEAST 20 successes with 42 rolls is: 0.61257\n",
      "Probability of AT LEAST 20 successes with 43 rolls is: 0.66680\n",
      "Probability of AT LEAST 20 successes with 44 rolls is: 0.71668\n",
      "Probability of AT LEAST 20 successes with 45 rolls is: 0.76177\n",
      "Probability of AT LEAST 20 successes with 46 rolls is: 0.80185\n",
      "Probability of AT LEAST 20 successes with 47 rolls is: 0.83691\n",
      "Probability of AT LEAST 20 successes with 48 rolls is: 0.86713\n",
      "Probability of AT LEAST 20 successes with 49 rolls is: 0.89281\n",
      "Probability of AT LEAST 20 successes with 50 rolls is: 0.91436\n",
      "Probability of AT LEAST 20 successes with 51 rolls is: 0.93220\n",
      "Probability of AT LEAST 20 successes with 52 rolls is: 0.94680\n",
      "Probability of AT LEAST 20 successes with 53 rolls is: 0.95862\n",
      "Probability of AT LEAST 20 successes with 54 rolls is: 0.95862\n"
     ]
    }
   ],
   "source": [
    "totalprob = 0\n",
    "prob = 0\n",
    "rolls = 20\n",
    "while totalprob < 0.95:\n",
    "    prob = 0\n",
    "    for i in range(20):\n",
    "        prob += func(rolls, p, i) #prob of \"i\" successes, with \"rolls\" rolls\n",
    "    totalprob = 1-prob\n",
    "    print(f\"Probability of AT LEAST 20 successes with {rolls:2d} rolls is: {totalprob:7.5f}\") \n",
    "    rolls += 1\n",
    "print(f\"Probability of AT LEAST 20 successes with {rolls:2d} rolls is: {totalprob:7.5f}\") "
   ]
  },
  {
   "cell_type": "code",
   "execution_count": 20,
   "metadata": {},
   "outputs": [
    {
     "name": "stdout",
     "output_type": "stream",
     "text": [
      "Chance of getting 0-19 success with 20 rolls is 0.9999994487\n",
      "Chance of getting 0-19 success with 21 rolls is 0.9999937863\n",
      "Chance of getting 0-19 success with 22 rolls is 0.9999632555\n",
      "Chance of getting 0-19 success with 23 rolls is 0.9998482835\n",
      "Chance of getting 0-19 success with 24 rolls is 0.9995088055\n",
      "Chance of getting 0-19 success with 25 rolls is 0.9986720379\n",
      "Chance of getting 0-19 success with 26 rolls is 0.9968816570\n",
      "Chance of getting 0-19 success with 27 rolls is 0.9934667992\n",
      "Chance of getting 0-19 success with 28 rolls is 0.9875484814\n",
      "Chance of getting 0-19 success with 29 rolls is 0.9780933911\n",
      "Chance of getting 0-19 success with 30 rolls is 0.9640129728\n",
      "Chance of getting 0-19 success with 31 rolls is 0.9442934681\n",
      "Chance of getting 0-19 success with 32 rolls is 0.9181340351\n",
      "Chance of getting 0-19 success with 33 rolls is 0.8850676416\n",
      "Chance of getting 0-19 success with 34 rolls is 0.8450432618\n",
      "Chance of getting 0-19 success with 35 rolls is 0.7984563261\n",
      "Chance of getting 0-19 success with 36 rolls is 0.7461247175\n",
      "Chance of getting 0-19 success with 37 rolls is 0.6892172131\n",
      "Chance of getting 0-19 success with 38 rolls is 0.6291481807\n",
      "Chance of getting 0-19 success with 39 rolls is 0.5674556610\n",
      "Chance of getting 0-19 success with 40 rolls is 0.5056797729\n",
      "Chance of getting 0-19 success with 41 rolls is 0.4452554809\n",
      "Chance of getting 0-19 success with 42 rolls is 0.3874292850\n",
      "Chance of getting 0-19 success with 43 rolls is 0.3332044855\n",
      "Chance of getting 0-19 success with 44 rolls is 0.2833152274\n",
      "Chance of getting 0-19 success with 45 rolls is 0.2382261249\n",
      "Chance of getting 0-19 success with 46 rolls is 0.1981521306\n",
      "Chance of getting 0-19 success with 47 rolls is 0.1630923998\n",
      "Chance of getting 0-19 success with 48 rolls is 0.1328719947\n",
      "Chance of getting 0-19 success with 49 rolls is 0.1071860587\n",
      "Chance of getting 0-19 success with 50 rolls is 0.0856422691\n",
      "Chance of getting 0-19 success with 51 rolls is 0.0677986770\n",
      "Chance of getting 0-19 success with 52 rolls is 0.0531952642\n",
      "Chance of getting 0-19 success with 53 rolls is 0.0413785796\n",
      "54\n"
     ]
    }
   ],
   "source": [
    "\n",
    "totalprob = 1\n",
    "k = 20\n",
    "n = 20\n",
    "while totalprob > 0.05:\n",
    "    prob = 0\n",
    "    for i in range(20):\n",
    "        prob += func(n, p, i)\n",
    "    print(f\"Chance of getting 0-19 success with {n} rolls is {prob:.10f}\")\n",
    "    totalprob = prob\n",
    "    n +=1\n",
    "print(n)"
   ]
  },
  {
   "cell_type": "code",
   "execution_count": null,
   "metadata": {},
   "outputs": [],
   "source": []
  },
  {
   "cell_type": "markdown",
   "metadata": {},
   "source": [
    "## 1.2 "
   ]
  },
  {
   "cell_type": "markdown",
   "metadata": {},
   "source": [
    "1.2 sigma - 2.5 sigma"
   ]
  },
  {
   "cell_type": "markdown",
   "metadata": {},
   "source": [
    "The formular for calculating this uses the following:\n",
    "    mu +/- x sigma = erf(x/sqrt(2))\n",
    "    \n",
    "so to calculate how big a portion lies between 2.5 sigma and 1.2 sigma, we calculate for each and subtract the results:"
   ]
  },
  {
   "cell_type": "markdown",
   "metadata": {},
   "source": [
    "$erf\\left(\\frac{x}{\\sqrt(2)}\\right)$\n",
    "\n",
    "$erf(x) = \\frac{1}{\\sqrt{\\pi}}\\int^x_{-x} e^{-t^2}dt$"
   ]
  },
  {
   "cell_type": "markdown",
   "metadata": {},
   "source": [
    "erf(2.5/sqrt(2))-erf(1.2/sqrt(2)) = .2177200099"
   ]
  },
  {
   "cell_type": "markdown",
   "metadata": {},
   "source": [
    "## 1.3"
   ]
  },
  {
   "cell_type": "markdown",
   "metadata": {},
   "source": [
    "### 1.3.1 \n",
    "Poissonian, since the error rate is unknown, the number of trials is unknown"
   ]
  },
  {
   "cell_type": "markdown",
   "metadata": {},
   "source": [
    "### 1.3.2\n"
   ]
  },
  {
   "cell_type": "code",
   "execution_count": 91,
   "metadata": {},
   "outputs": [],
   "source": [
    "def poisson(k, lamb):\n",
    "    return np.exp(-lamb)*(lamb**k) / (scipy.special.factorial(k))"
   ]
  },
  {
   "cell_type": "code",
   "execution_count": 92,
   "metadata": {},
   "outputs": [
    {
     "name": "stdout",
     "output_type": "stream",
     "text": [
      "0.06027285608120166\n"
     ]
    }
   ],
   "source": [
    "val = 0\n",
    "for i in range(8,100):\n",
    "    val += poisson(i, 4.1455)\n",
    "print(val)"
   ]
  },
  {
   "cell_type": "markdown",
   "metadata": {},
   "source": [
    "For this problem we use the poisson distribution given by:\n",
    "$\\exp(-\\lambda)\\cdot \\frac{\\lambda^k}{k!}$"
   ]
  },
  {
   "cell_type": "markdown",
   "metadata": {},
   "source": [
    "And since we know that the integral form 8-inf is 22/365, the area from 0-7 should be (365-22)/365 = 0,939726027\n",
    "We can solve a long equation where lambda is the unknown for all trials (k) 0-7 as such\n",
    "0,939726027 = $\\exp(-\\lambda)\\cdot \\frac{\\lambda^0}{0!} + ... + \\exp(-\\lambda)\\cdot \\frac{\\lambda^7}{7!}$\n",
    "and solve for $\\lambda$ which comes out as 4.145516896 (also a negative value, but we can be quite certain is not the right one (also a bunch of complex values but likewise for those).\n",
    "To test if this is actually correct, but can calculate area under for function from 8 to inf (~100) with a loop and see that we get 0.0603, which is the same as 22/365, so the assignment is solved.\n",
    "The average number of daily mistakes is thus: 4.146"
   ]
  },
  {
   "cell_type": "code",
   "execution_count": null,
   "metadata": {},
   "outputs": [],
   "source": []
  },
  {
   "cell_type": "code",
   "execution_count": 67,
   "metadata": {},
   "outputs": [],
   "source": [
    "r = np.random\n",
    "r.seed(13375336)"
   ]
  },
  {
   "cell_type": "code",
   "execution_count": 87,
   "metadata": {},
   "outputs": [],
   "source": [
    "x = np.linspace(-1,1,1000)\n",
    "y = np.random.normal(0, 1, 1000)"
   ]
  },
  {
   "cell_type": "code",
   "execution_count": null,
   "metadata": {},
   "outputs": [],
   "source": []
  },
  {
   "cell_type": "code",
   "execution_count": 83,
   "metadata": {},
   "outputs": [],
   "source": [
    "def QND(f_ax, f_x, f_y, f_min=0, f_max=1, f_title='the title', f_ylabel='y-label', f_xlabel='x_label'):\n",
    "    t_hist = f_ax.hist(f_y, bins=20, range=(f_min, f_max), histtype='step', label='Binned Data')#, weights=1/new_eL30cm)\n",
    "    f_ax.set(xlabel=f_xlabel, ylabel=f_ylabel, title=f_title)\n",
    "    t_x, t_y, t_sy = get_bincenter_and_counts_in_range(t_hist, f_min, f_max)\n",
    "    t_binwidth = t_x[1] - t_x[0]\n",
    "    t_chi2 = Chi2Regression(gauss_extended, t_x, t_y, t_sy) \n",
    "    t_minuit = Minuit(t_chi2, pedantic=False, N=f_y.sum()*t_binwidth, mu=f_y.mean(), sigma=f_y.std(ddof=1), print_level=0) \n",
    "    t_minuit.migrad();\n",
    "    t_fit_N, t_fit_mu, t_fit_sigma = t_minuit.args \n",
    "    t_xaxis = np.linspace(min(f_y), max(f_y), 10000)\n",
    "    t_yaxis = gauss_extended(t_xaxis, *t_minuit.args)\n",
    "    t_chi2, t_entries = calculate_chi2(gauss_extended, t_x, t_y, t_sy, *t_minuit.args)\n",
    "    t_NDOF = t_entries - len(t_minuit.args)\n",
    "    t_chi2_prob =  stats.chi2.sf(t_chi2, t_NDOF) \n",
    "    f_ax.plot(t_xaxis, t_yaxis, '-', label='Fit')\n",
    "    f_ax.set_xlim([min(f_y)*0.9,max(f_y)*1.1])\n",
    "    d = {'Entries': len(f_y),'Mean': f_y.mean(),'Std': f_y.std(ddof=1),'Chi2': t_chi2,'ndf': t_NDOF, 'Prob': t_chi2_prob,}\n",
    "    for name in t_minuit.parameters:\n",
    "        d[name] = [t_minuit.values[name], t_minuit.errors[name]]\n",
    "    text = nice_string_output(d, extra_spacing=2, decimals=4)\n",
    "    add_text_to_ax(0.02, 0.95, text, f_ax, fontsize=12)\n",
    "    f_ax.legend()\n",
    "\n",
    "def get_bincenter_and_counts_in_range(hist, xmin=None, xmax=None):\n",
    "    \n",
    "    if xmin is None:\n",
    "        xmin = np.min(hist)\n",
    "    if xmax is None:\n",
    "        xmax = np.max(hist)\n",
    "    \n",
    "    counts, bin_edges, _ = hist\n",
    "    bin_centers = 0.5*(bin_edges[1:] + bin_edges[:-1])\n",
    "    mask1 = (xmin < bin_centers) & (bin_centers <= xmax) \n",
    "    mask2 = counts > 0\n",
    "    mask_final = mask1 & mask2\n",
    "    return bin_centers[mask_final], counts[mask_final], np.sqrt(counts[mask_final])\n",
    "\n",
    "def calculate_chi2(function, x_values, y_values, sy_values, *fitparameters):\n",
    "    # traditional loop-version\n",
    "    chi2_val = 0\n",
    "    entries = 0\n",
    "    for x, y, sy in zip(x_values, y_values, sy_values):\n",
    "        if y > 0:\n",
    "            f = function(x, *fitparameters) # calc the model value\n",
    "            residual  = ( y-f ) / sy  # find the uncertainty-weighted residual\n",
    "            chi2_val += residual**2  # the chi2-value is the squared residual\n",
    "            entries += 1 # count the bin as non-empty since sy>0 (and thus y>0)\n",
    "    \n",
    "    # numpy version\n",
    "    mask = (y_values>0)\n",
    "    yhat = function(x_values, *fitparameters)\n",
    "    chi2_val = np.sum( (y_values[mask]-yhat[mask])**2/sy_values[mask]**2)\n",
    "    entries = sum(mask)\n",
    "            \n",
    "    return chi2_val, entries\n",
    "\n",
    "# Define your PDF / model \n",
    "def gauss_pdf(x, mu, sigma):\n",
    "    \"\"\"Normalized Gaussian\"\"\"\n",
    "    return 1 / np.sqrt(2 * np.pi) / sigma * np.exp(-(x - mu) ** 2 / 2. / sigma ** 2)\n",
    "\n",
    "\n",
    "def gauss_extended(x, N, mu, sigma) :\n",
    "    \"\"\"Non-normalized Gaussian\"\"\"\n",
    "    return N * gauss_pdf(x, mu, sigma)"
   ]
  },
  {
   "cell_type": "code",
   "execution_count": 86,
   "metadata": {},
   "outputs": [
    {
     "data": {
      "image/png": "[encoded data removed]",
      "text/plain": [
       "<Figure size 1008x576 with 1 Axes>"
      ]
     },
     "metadata": {
      "needs_background": "light"
     },
     "output_type": "display_data"
    }
   ],
   "source": [
    "fig, ax = plt.subplots(figsize=(14,8))\n",
    "QND(ax, x, y, f_min=-1, f_max=1)"
   ]
  },
  {
   "cell_type": "code",
   "execution_count": null,
   "metadata": {},
   "outputs": [],
   "source": []
  },
  {
   "cell_type": "code",
   "execution_count": null,
   "metadata": {},
   "outputs": [],
   "source": []
  }
 ],
 "metadata": {
  "kernelspec": {
   "display_name": "Python 3",
   "language": "python",
   "name": "python3"
  },
  "language_info": {
   "codemirror_mode": {
    "name": "ipython",
    "version": 3
   },
   "file_extension": ".py",
   "mimetype": "text/x-python",
   "name": "python",
   "nbconvert_exporter": "python",
   "pygments_lexer": "ipython3",
   "version": "3.6.7"
  }
 },
 "nbformat": 4,
 "nbformat_minor": 2
}
